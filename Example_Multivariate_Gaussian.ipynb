{
 "cells": [
  {
   "cell_type": "code",
   "execution_count": 1,
   "id": "criminal-minneapolis",
   "metadata": {},
   "outputs": [
    {
     "name": "stderr",
     "output_type": "stream",
     "text": [
      "/Users/corey/anaconda3/envs/exoenv/lib/python3.9/site-packages/autograd/numpy/numpy_wrapper.py:20: DeprecationWarning: `np.int` is a deprecated alias for the builtin `int`. To silence this warning, use `int` by itself. Doing this will not modify any behavior and is safe. When replacing `np.int`, you may wish to use e.g. `np.int64` or `np.int32` to specify the precision. If you wish to review your current use, check the release note link for additional information.\n",
      "Deprecated in NumPy 1.20; for more details and guidance: https://numpy.org/devdocs/release/1.20.0-notes.html#deprecations\n",
      "  int_types = {_np.int, _np.int8, _np.int16, _np.int32, _np.int64, _np.integer}\n"
     ]
    }
   ],
   "source": [
    "import sys\n",
    "import matplotlib.pyplot as plt\n",
    "sys.path.append('src/')\n",
    "from LApprox import *"
   ]
  },
  {
   "cell_type": "markdown",
   "id": "atomic-teaching",
   "metadata": {},
   "source": [
    "Let's start with a simple example of the Laplace Approximation, that we can verify by hand. This will utilize the three main functions of our lightweight LApprox package:\n",
    "\n",
    "1. **NDeriv_2** - numerically calculate the second derivative of a generic python function\n",
    "2. **Calculate_Hessian** - Make a matrix of partial second derivatives\n",
    "3. **Laplace_Approximation** - The main thing we're looking for!\n",
    "\n",
    "We're going to start with a multivariate Guassian. This is pretty much the simplest function where it makes sense to use the Laplace Approximation. We can take its second derivatives by hand to verify that our first two functions are working, and while its integral is not doable by hand, the function has a simple enough form that we can plug it into something like Wolfram Alpha to verify that our approximation is correct."
   ]
  },
  {
   "cell_type": "markdown",
   "id": "instant-correlation",
   "metadata": {},
   "source": [
    "Remember that we want to approximate the integral of a function of the form\n",
    "\n",
    "\\begin{equation}\n",
    "Z = \\int h(\\textbf{x}) = \\int exp(f(\\textbf{x}))\n",
    "\\end{equation}\n",
    "\n",
    "Note that we use $\\textbf{x}$ to indicate that this can be a multivariable function, and, in general, those are the primary functions we are interested in approximating.\n",
    "\n",
    "This, perhaps difficult, integral can be approximated as:\n",
    "\n",
    "\\begin{equation}\n",
    "[\\frac{(2\\pi)^{2}}{|det(H(\\textbf{x$_{0}$})|}]^{\\frac{1}{2}} \\times exp(f(\\textbf{x$_{0}$}))\n",
    "\\end{equation}\n",
    "\n",
    "Where $\\textbf{x$_{0}$}$ is a local maximum, and H is the Hessian matrix of f(x). We can also think of this as the function evaluated at the local maximum multiplied by a width term, which is estimated via the Hessian matrix.\n",
    "\n",
    "Our example function will be a simple multivariate Gaussian of the form:\n",
    "\n",
    "\\begin{equation}\n",
    "h(x,y) = e^{-3x^{2} - y^{2}}\n",
    "\\end{equation}\n",
    "\n",
    "In this situation, f(x,y) is simply the term in the exponent:\n",
    "\n",
    "\\begin{equation}\n",
    "f(x,y) = -3x^{2} - y^{2}\n",
    "\\end{equation}\n",
    "\n",
    "We define these functions below, and plot h."
   ]
  },
  {
   "cell_type": "code",
   "execution_count": 2,
   "id": "independent-noise",
   "metadata": {},
   "outputs": [],
   "source": [
    "def h(x0):\n",
    "    x= x0[0]\n",
    "    y = x0[1]\n",
    "    return np.exp(-3*x**2 - y**2)\n",
    "    \n",
    "def f(x0, **kwargs):\n",
    "    x = x0[0]\n",
    "    y = x0[1]\n",
    "    return (-3*x**2 - y**2)"
   ]
  },
  {
   "cell_type": "code",
   "execution_count": 3,
   "id": "former-stevens",
   "metadata": {},
   "outputs": [
    {
     "data": {
      "image/png": "[encoded data removed]",
      "text/plain": [
       "<Figure size 1152x432 with 2 Axes>"
      ]
     },
     "metadata": {
      "needs_background": "light"
     },
     "output_type": "display_data"
    }
   ],
   "source": [
    "x = np.linspace(-5, 5, 1000)\n",
    "y = np.linspace(-5, 5, 1000)\n",
    "\n",
    "plt.figure(figsize=(16,6))\n",
    "\n",
    "plt.subplot(1,2,1)\n",
    "\n",
    "plt.plot(x, h([x,y]))\n",
    "\n",
    "plt.xlabel('x', fontsize=30)\n",
    "plt.ylabel('h(x,y)', fontsize=30)\n",
    "\n",
    "plt.subplot(1,2,2)\n",
    "\n",
    "plt.plot(y, h([x,y]))\n",
    "plt.xlabel('y', fontsize=30)\n",
    "plt.ylabel('h(x,y)', fontsize=30)\n",
    "\n",
    "plt.show()"
   ]
  },
  {
   "cell_type": "markdown",
   "id": "psychological-spring",
   "metadata": {},
   "source": [
    "Say we're interested in calculating the integral from -50 to 50 in each parameter set. Because most of the function is concentrated near the local maximum of (0,0), we can estimate this integral by simply taking the value and multiplying by a width term, as described above.\n",
    "\n",
    "It is clear from inspection that the local maximum occurs at x$_{0}$ = (0,0). Thus, it is plain that exp(f(x$_{0}$)) = 1."
   ]
  },
  {
   "cell_type": "code",
   "execution_count": 4,
   "id": "aggregate-power",
   "metadata": {},
   "outputs": [
    {
     "data": {
      "text/plain": [
       "1.0"
      ]
     },
     "execution_count": 4,
     "metadata": {},
     "output_type": "execute_result"
    }
   ],
   "source": [
    "h([0,0])"
   ]
  },
  {
   "cell_type": "markdown",
   "id": "confirmed-arthritis",
   "metadata": {},
   "source": [
    "Good, our function returns the same! Now to estimate the Hessian matrix. The Hessian is simply a matrix of second partial derivatives, where the ijth entry is the second partial derivative with respect to dimension i and j.\n",
    "\n",
    "\\begin{pmatrix}\n",
    "\\frac{\\partial^{2} f}{\\partial x_{0} \\partial x_{0}} & ... & \\frac{\\partial^{2} f}{\\partial x_{0} \\partial x_{n}} \\\\\n",
    "... & ... & ... \\\\\n",
    "\\frac{\\partial^{2} f}{\\partial x_{n} \\partial x_{0}} & ... & \\frac{\\partial^{2} f}{\\partial x_{n} \\partial x_{n}} \\\\\n",
    "\\end{pmatrix}\n",
    "\n",
    "In our simple case, the Hessian is \n",
    "\n",
    "\\begin{pmatrix}\n",
    "\\frac{\\partial^{2} f}{\\partial x^{2}} & \\frac{\\partial^{2} f}{\\partial x \\partial y} \\\\\n",
    "\\frac{\\partial^{2} f}{\\partial y \\partial x} & \\frac{\\partial^{2} f}{\\partial y^{2}} \\\\\n",
    "\\end{pmatrix}\n",
    "\n",
    "\n",
    "This is trivial to do by hand:\n",
    "\n",
    "\\begin{pmatrix}\n",
    "-6 & 0\\\\\n",
    "0 & -2 \\\\\n",
    "\\end{pmatrix}\n",
    "\n",
    "Let's verify that our Hessian function can do this:"
   ]
  },
  {
   "cell_type": "code",
   "execution_count": 5,
   "id": "random-uniform",
   "metadata": {},
   "outputs": [
    {
     "data": {
      "text/plain": [
       "array([[-6.,  0.],\n",
       "       [ 0., -2.]])"
      ]
     },
     "execution_count": 5,
     "metadata": {},
     "output_type": "execute_result"
    }
   ],
   "source": [
    "Calculate_Hessian(f, [0,0])"
   ]
  },
  {
   "cell_type": "markdown",
   "id": "mediterranean-diversity",
   "metadata": {},
   "source": [
    "Excellent, that appears to be working! The determinant is just positive 12, so we can perform the Laplace Approximation by hand:\n",
    "\n",
    "\\begin{equation}\n",
    "[\\frac{(2\\pi)^{2}}{|12|}]^{\\frac{1}{2}} \\times 1 = 1.813799364\n",
    "\\end{equation}"
   ]
  },
  {
   "cell_type": "markdown",
   "id": "included-charles",
   "metadata": {},
   "source": [
    "This is indeed equal to \n",
    "\\begin{equation}\n",
    "\\int_{-\\infty}^{+\\infty}\\int_{-\\infty}^{+\\infty}e^{(-3x^{2} - y^{2})}dxdy = 1.8138\n",
    "\\end{equation}\n",
    "\n",
    "According to Wolfram Alpha (This could also be done by hand, but I am being lazy).\n",
    "\n",
    "Does our Laplace Approximation function do this successfully?"
   ]
  },
  {
   "cell_type": "code",
   "execution_count": 6,
   "id": "composed-advancement",
   "metadata": {},
   "outputs": [
    {
     "name": "stdout",
     "output_type": "stream",
     "text": [
      "Determinant: 12.0\n"
     ]
    },
    {
     "data": {
      "text/plain": [
       "(0, 0.5954237415153453)"
      ]
     },
     "execution_count": 6,
     "metadata": {},
     "output_type": "execute_result"
    }
   ],
   "source": [
    "Laplace_Approximation(f, [0,0])"
   ]
  },
  {
   "cell_type": "markdown",
   "id": "sexual-corps",
   "metadata": {},
   "source": [
    "Wait, what's wrong? There's two numbers? And neither's right?\n",
    "\n",
    "Actually, this is fine. As explained in the documentation, my Laplace Approximation function returns log(A) and log(B), where A and B are the two components of the Laplace Approximation. Adding them together, and exponentiating them, will get the correct result."
   ]
  },
  {
   "cell_type": "code",
   "execution_count": 7,
   "id": "geographic-gates",
   "metadata": {},
   "outputs": [
    {
     "name": "stdout",
     "output_type": "stream",
     "text": [
      "Determinant: 12.0\n",
      "1.8137993642342178\n"
     ]
    }
   ],
   "source": [
    "logA, logB = Laplace_Approximation(f, [0,0])\n",
    "\n",
    "print(np.exp(logA + logB))"
   ]
  },
  {
   "cell_type": "markdown",
   "id": "august-cardiff",
   "metadata": {},
   "source": [
    "And there you have it, the approximation works on a simple multi-variate Gaussian. Now, let's try using it on an actually complicated function in the next tutorial!"
   ]
  },
  {
   "cell_type": "code",
   "execution_count": null,
   "id": "consistent-object",
   "metadata": {},
   "outputs": [],
   "source": []
  }
 ],
 "metadata": {
  "kernelspec": {
   "display_name": "Python 3",
   "language": "python",
   "name": "python3"
  },
  "language_info": {
   "codemirror_mode": {
    "name": "ipython",
    "version": 3
   },
   "file_extension": ".py",
   "mimetype": "text/x-python",
   "name": "python",
   "nbconvert_exporter": "python",
   "pygments_lexer": "ipython3",
   "version": "3.9.2"
  }
 },
 "nbformat": 4,
 "nbformat_minor": 5
}
